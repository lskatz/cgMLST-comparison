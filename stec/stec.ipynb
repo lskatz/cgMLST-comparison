{
 "cells": [
  {
   "cell_type": "code",
   "execution_count": 2,
   "id": "be486e8e-705f-4120-8595-d5d741e124c6",
   "metadata": {},
   "outputs": [],
   "source": [
    "setwd(\"~/GWA/projects/validation/mlstComparison/distancesComparison/stec\")"
   ]
  },
  {
   "cell_type": "code",
   "execution_count": 28,
   "id": "f32833af-6089-49e4-8483-31040cf2aaab",
   "metadata": {},
   "outputs": [],
   "source": [
    "chewbbaca <- read.csv(\"distance.chewie.stec.tsv.gz\", sep=\"\\t\")\n",
    "bn <- read.csv(\"distance.bn.stec.tsv.gz\", sep=\"\\t\")\n",
    "etoki <- read.csv(\"distance.etoki.stec.tsv.gz\", sep=\"\\t\")\n",
    "colorid <- read.csv(\"distance.colorid.stec.tsv.gz\", sep=\"\\t\")"
   ]
  },
  {
   "cell_type": "code",
   "execution_count": 33,
   "id": "f3868842-d9d5-4202-9c4f-89fce3d05042",
   "metadata": {},
   "outputs": [
    {
     "data": {
      "text/html": [
       "<table class=\"dataframe\">\n",
       "<caption>A data.frame: 6 × 6</caption>\n",
       "<thead>\n",
       "\t<tr><th></th><th scope=col>sample1</th><th scope=col>sample2</th><th scope=col>identity</th><th scope=col>numSame</th><th scope=col>numCompared</th><th scope=col>key</th></tr>\n",
       "\t<tr><th></th><th scope=col>&lt;chr&gt;</th><th scope=col>&lt;chr&gt;</th><th scope=col>&lt;dbl&gt;</th><th scope=col>&lt;int&gt;</th><th scope=col>&lt;int&gt;</th><th scope=col>&lt;chr&gt;</th></tr>\n",
       "</thead>\n",
       "<tbody>\n",
       "\t<tr><th scope=row>1</th><td>SRR10066242_1.shovillSpades.fasta</td><td>SRR10067829_1.shovillSpades.fasta</td><td>0.04609475</td><td>144</td><td>3124</td><td>SRR10066242SRR10067829</td></tr>\n",
       "\t<tr><th scope=row>2</th><td>SRR10066242_1.shovillSpades.fasta</td><td>SRR10089861_1.shovillSpades.fasta</td><td>0.04610951</td><td>144</td><td>3123</td><td>SRR10066242SRR10089861</td></tr>\n",
       "\t<tr><th scope=row>3</th><td>SRR10066242_1.shovillSpades.fasta</td><td>SRR10089862_1.shovillSpades.fasta</td><td>0.04612428</td><td>144</td><td>3122</td><td>SRR10066242SRR10089862</td></tr>\n",
       "\t<tr><th scope=row>4</th><td>SRR10066242_1.shovillSpades.fasta</td><td>SRR10096821_1.shovillSpades.fasta</td><td>0.04609475</td><td>144</td><td>3124</td><td>SRR10066242SRR10096821</td></tr>\n",
       "\t<tr><th scope=row>5</th><td>SRR10066242_1.shovillSpades.fasta</td><td>SRR10096822_1.shovillSpades.fasta</td><td>0.04641485</td><td>145</td><td>3124</td><td>SRR10066242SRR10096822</td></tr>\n",
       "\t<tr><th scope=row>6</th><td>SRR10066242_1.shovillSpades.fasta</td><td>SRR10096824_1.shovillSpades.fasta</td><td>0.04641485</td><td>145</td><td>3124</td><td>SRR10066242SRR10096824</td></tr>\n",
       "</tbody>\n",
       "</table>\n"
      ],
      "text/latex": [
       "A data.frame: 6 × 6\n",
       "\\begin{tabular}{r|llllll}\n",
       "  & sample1 & sample2 & identity & numSame & numCompared & key\\\\\n",
       "  & <chr> & <chr> & <dbl> & <int> & <int> & <chr>\\\\\n",
       "\\hline\n",
       "\t1 & SRR10066242\\_1.shovillSpades.fasta & SRR10067829\\_1.shovillSpades.fasta & 0.04609475 & 144 & 3124 & SRR10066242SRR10067829\\\\\n",
       "\t2 & SRR10066242\\_1.shovillSpades.fasta & SRR10089861\\_1.shovillSpades.fasta & 0.04610951 & 144 & 3123 & SRR10066242SRR10089861\\\\\n",
       "\t3 & SRR10066242\\_1.shovillSpades.fasta & SRR10089862\\_1.shovillSpades.fasta & 0.04612428 & 144 & 3122 & SRR10066242SRR10089862\\\\\n",
       "\t4 & SRR10066242\\_1.shovillSpades.fasta & SRR10096821\\_1.shovillSpades.fasta & 0.04609475 & 144 & 3124 & SRR10066242SRR10096821\\\\\n",
       "\t5 & SRR10066242\\_1.shovillSpades.fasta & SRR10096822\\_1.shovillSpades.fasta & 0.04641485 & 145 & 3124 & SRR10066242SRR10096822\\\\\n",
       "\t6 & SRR10066242\\_1.shovillSpades.fasta & SRR10096824\\_1.shovillSpades.fasta & 0.04641485 & 145 & 3124 & SRR10066242SRR10096824\\\\\n",
       "\\end{tabular}\n"
      ],
      "text/markdown": [
       "\n",
       "A data.frame: 6 × 6\n",
       "\n",
       "| <!--/--> | sample1 &lt;chr&gt; | sample2 &lt;chr&gt; | identity &lt;dbl&gt; | numSame &lt;int&gt; | numCompared &lt;int&gt; | key &lt;chr&gt; |\n",
       "|---|---|---|---|---|---|---|\n",
       "| 1 | SRR10066242_1.shovillSpades.fasta | SRR10067829_1.shovillSpades.fasta | 0.04609475 | 144 | 3124 | SRR10066242SRR10067829 |\n",
       "| 2 | SRR10066242_1.shovillSpades.fasta | SRR10089861_1.shovillSpades.fasta | 0.04610951 | 144 | 3123 | SRR10066242SRR10089861 |\n",
       "| 3 | SRR10066242_1.shovillSpades.fasta | SRR10089862_1.shovillSpades.fasta | 0.04612428 | 144 | 3122 | SRR10066242SRR10089862 |\n",
       "| 4 | SRR10066242_1.shovillSpades.fasta | SRR10096821_1.shovillSpades.fasta | 0.04609475 | 144 | 3124 | SRR10066242SRR10096821 |\n",
       "| 5 | SRR10066242_1.shovillSpades.fasta | SRR10096822_1.shovillSpades.fasta | 0.04641485 | 145 | 3124 | SRR10066242SRR10096822 |\n",
       "| 6 | SRR10066242_1.shovillSpades.fasta | SRR10096824_1.shovillSpades.fasta | 0.04641485 | 145 | 3124 | SRR10066242SRR10096824 |\n",
       "\n"
      ],
      "text/plain": [
       "  sample1                           sample2                          \n",
       "1 SRR10066242_1.shovillSpades.fasta SRR10067829_1.shovillSpades.fasta\n",
       "2 SRR10066242_1.shovillSpades.fasta SRR10089861_1.shovillSpades.fasta\n",
       "3 SRR10066242_1.shovillSpades.fasta SRR10089862_1.shovillSpades.fasta\n",
       "4 SRR10066242_1.shovillSpades.fasta SRR10096821_1.shovillSpades.fasta\n",
       "5 SRR10066242_1.shovillSpades.fasta SRR10096822_1.shovillSpades.fasta\n",
       "6 SRR10066242_1.shovillSpades.fasta SRR10096824_1.shovillSpades.fasta\n",
       "  identity   numSame numCompared key                   \n",
       "1 0.04609475 144     3124        SRR10066242SRR10067829\n",
       "2 0.04610951 144     3123        SRR10066242SRR10089861\n",
       "3 0.04612428 144     3122        SRR10066242SRR10089862\n",
       "4 0.04609475 144     3124        SRR10066242SRR10096821\n",
       "5 0.04641485 145     3124        SRR10066242SRR10096822\n",
       "6 0.04641485 145     3124        SRR10066242SRR10096824"
      ]
     },
     "metadata": {},
     "output_type": "display_data"
    },
    {
     "data": {
      "text/html": [
       "<table class=\"dataframe\">\n",
       "<caption>A data.frame: 6 × 6</caption>\n",
       "<thead>\n",
       "\t<tr><th></th><th scope=col>sample1</th><th scope=col>sample2</th><th scope=col>identity</th><th scope=col>numSame</th><th scope=col>numCompared</th><th scope=col>key</th></tr>\n",
       "\t<tr><th></th><th scope=col>&lt;chr&gt;</th><th scope=col>&lt;chr&gt;</th><th scope=col>&lt;dbl&gt;</th><th scope=col>&lt;int&gt;</th><th scope=col>&lt;int&gt;</th><th scope=col>&lt;chr&gt;</th></tr>\n",
       "</thead>\n",
       "<tbody>\n",
       "\t<tr><th scope=row>1</th><td>SRR10066242_1.shovillSpades</td><td>SRR10067829_1.shovillSpades</td><td>0.05741279</td><td>158</td><td>2752</td><td>SRR10066242SRR10067829</td></tr>\n",
       "\t<tr><th scope=row>2</th><td>SRR10066242_1.shovillSpades</td><td>SRR10089861_1.shovillSpades</td><td>0.05711168</td><td>157</td><td>2749</td><td>SRR10066242SRR10089861</td></tr>\n",
       "\t<tr><th scope=row>3</th><td>SRR10066242_1.shovillSpades</td><td>SRR10089862_1.shovillSpades</td><td>0.05707016</td><td>157</td><td>2751</td><td>SRR10066242SRR10089862</td></tr>\n",
       "\t<tr><th scope=row>4</th><td>SRR10066242_1.shovillSpades</td><td>SRR10096821_1.shovillSpades</td><td>0.05668605</td><td>156</td><td>2752</td><td>SRR10066242SRR10096821</td></tr>\n",
       "\t<tr><th scope=row>5</th><td>SRR10066242_1.shovillSpades</td><td>SRR10096822_1.shovillSpades</td><td>0.05674791</td><td>156</td><td>2749</td><td>SRR10066242SRR10096822</td></tr>\n",
       "\t<tr><th scope=row>6</th><td>SRR10066242_1.shovillSpades</td><td>SRR10096824_1.shovillSpades</td><td>0.05745455</td><td>158</td><td>2750</td><td>SRR10066242SRR10096824</td></tr>\n",
       "</tbody>\n",
       "</table>\n"
      ],
      "text/latex": [
       "A data.frame: 6 × 6\n",
       "\\begin{tabular}{r|llllll}\n",
       "  & sample1 & sample2 & identity & numSame & numCompared & key\\\\\n",
       "  & <chr> & <chr> & <dbl> & <int> & <int> & <chr>\\\\\n",
       "\\hline\n",
       "\t1 & SRR10066242\\_1.shovillSpades & SRR10067829\\_1.shovillSpades & 0.05741279 & 158 & 2752 & SRR10066242SRR10067829\\\\\n",
       "\t2 & SRR10066242\\_1.shovillSpades & SRR10089861\\_1.shovillSpades & 0.05711168 & 157 & 2749 & SRR10066242SRR10089861\\\\\n",
       "\t3 & SRR10066242\\_1.shovillSpades & SRR10089862\\_1.shovillSpades & 0.05707016 & 157 & 2751 & SRR10066242SRR10089862\\\\\n",
       "\t4 & SRR10066242\\_1.shovillSpades & SRR10096821\\_1.shovillSpades & 0.05668605 & 156 & 2752 & SRR10066242SRR10096821\\\\\n",
       "\t5 & SRR10066242\\_1.shovillSpades & SRR10096822\\_1.shovillSpades & 0.05674791 & 156 & 2749 & SRR10066242SRR10096822\\\\\n",
       "\t6 & SRR10066242\\_1.shovillSpades & SRR10096824\\_1.shovillSpades & 0.05745455 & 158 & 2750 & SRR10066242SRR10096824\\\\\n",
       "\\end{tabular}\n"
      ],
      "text/markdown": [
       "\n",
       "A data.frame: 6 × 6\n",
       "\n",
       "| <!--/--> | sample1 &lt;chr&gt; | sample2 &lt;chr&gt; | identity &lt;dbl&gt; | numSame &lt;int&gt; | numCompared &lt;int&gt; | key &lt;chr&gt; |\n",
       "|---|---|---|---|---|---|---|\n",
       "| 1 | SRR10066242_1.shovillSpades | SRR10067829_1.shovillSpades | 0.05741279 | 158 | 2752 | SRR10066242SRR10067829 |\n",
       "| 2 | SRR10066242_1.shovillSpades | SRR10089861_1.shovillSpades | 0.05711168 | 157 | 2749 | SRR10066242SRR10089861 |\n",
       "| 3 | SRR10066242_1.shovillSpades | SRR10089862_1.shovillSpades | 0.05707016 | 157 | 2751 | SRR10066242SRR10089862 |\n",
       "| 4 | SRR10066242_1.shovillSpades | SRR10096821_1.shovillSpades | 0.05668605 | 156 | 2752 | SRR10066242SRR10096821 |\n",
       "| 5 | SRR10066242_1.shovillSpades | SRR10096822_1.shovillSpades | 0.05674791 | 156 | 2749 | SRR10066242SRR10096822 |\n",
       "| 6 | SRR10066242_1.shovillSpades | SRR10096824_1.shovillSpades | 0.05745455 | 158 | 2750 | SRR10066242SRR10096824 |\n",
       "\n"
      ],
      "text/plain": [
       "  sample1                     sample2                     identity   numSame\n",
       "1 SRR10066242_1.shovillSpades SRR10067829_1.shovillSpades 0.05741279 158    \n",
       "2 SRR10066242_1.shovillSpades SRR10089861_1.shovillSpades 0.05711168 157    \n",
       "3 SRR10066242_1.shovillSpades SRR10089862_1.shovillSpades 0.05707016 157    \n",
       "4 SRR10066242_1.shovillSpades SRR10096821_1.shovillSpades 0.05668605 156    \n",
       "5 SRR10066242_1.shovillSpades SRR10096822_1.shovillSpades 0.05674791 156    \n",
       "6 SRR10066242_1.shovillSpades SRR10096824_1.shovillSpades 0.05745455 158    \n",
       "  numCompared key                   \n",
       "1 2752        SRR10066242SRR10067829\n",
       "2 2749        SRR10066242SRR10089861\n",
       "3 2751        SRR10066242SRR10089862\n",
       "4 2752        SRR10066242SRR10096821\n",
       "5 2749        SRR10066242SRR10096822\n",
       "6 2750        SRR10066242SRR10096824"
      ]
     },
     "metadata": {},
     "output_type": "display_data"
    },
    {
     "data": {
      "text/html": [
       "<table class=\"dataframe\">\n",
       "<caption>A data.frame: 6 × 6</caption>\n",
       "<thead>\n",
       "\t<tr><th></th><th scope=col>sample1</th><th scope=col>sample2</th><th scope=col>identity</th><th scope=col>numSame</th><th scope=col>numCompared</th><th scope=col>key</th></tr>\n",
       "\t<tr><th></th><th scope=col>&lt;chr&gt;</th><th scope=col>&lt;chr&gt;</th><th scope=col>&lt;dbl&gt;</th><th scope=col>&lt;int&gt;</th><th scope=col>&lt;int&gt;</th><th scope=col>&lt;chr&gt;</th></tr>\n",
       "</thead>\n",
       "<tbody>\n",
       "\t<tr><th scope=row>1</th><td>SRR10066242</td><td>SRR10067829</td><td>0.05517241</td><td>136</td><td>2465</td><td>SRR10066242SRR10067829</td></tr>\n",
       "\t<tr><th scope=row>2</th><td>SRR10066242</td><td>SRR10089861</td><td>0.05539830</td><td>137</td><td>2473</td><td>SRR10066242SRR10089861</td></tr>\n",
       "\t<tr><th scope=row>3</th><td>SRR10066242</td><td>SRR10089862</td><td>0.05537591</td><td>137</td><td>2474</td><td>SRR10066242SRR10089862</td></tr>\n",
       "\t<tr><th scope=row>4</th><td>SRR10066242</td><td>SRR10096821</td><td>0.05523964</td><td>136</td><td>2462</td><td>SRR10066242SRR10096821</td></tr>\n",
       "\t<tr><th scope=row>5</th><td>SRR10066242</td><td>SRR10096822</td><td>0.05533118</td><td>137</td><td>2476</td><td>SRR10066242SRR10096822</td></tr>\n",
       "\t<tr><th scope=row>6</th><td>SRR10066242</td><td>SRR10096824</td><td>0.05542071</td><td>137</td><td>2472</td><td>SRR10066242SRR10096824</td></tr>\n",
       "</tbody>\n",
       "</table>\n"
      ],
      "text/latex": [
       "A data.frame: 6 × 6\n",
       "\\begin{tabular}{r|llllll}\n",
       "  & sample1 & sample2 & identity & numSame & numCompared & key\\\\\n",
       "  & <chr> & <chr> & <dbl> & <int> & <int> & <chr>\\\\\n",
       "\\hline\n",
       "\t1 & SRR10066242 & SRR10067829 & 0.05517241 & 136 & 2465 & SRR10066242SRR10067829\\\\\n",
       "\t2 & SRR10066242 & SRR10089861 & 0.05539830 & 137 & 2473 & SRR10066242SRR10089861\\\\\n",
       "\t3 & SRR10066242 & SRR10089862 & 0.05537591 & 137 & 2474 & SRR10066242SRR10089862\\\\\n",
       "\t4 & SRR10066242 & SRR10096821 & 0.05523964 & 136 & 2462 & SRR10066242SRR10096821\\\\\n",
       "\t5 & SRR10066242 & SRR10096822 & 0.05533118 & 137 & 2476 & SRR10066242SRR10096822\\\\\n",
       "\t6 & SRR10066242 & SRR10096824 & 0.05542071 & 137 & 2472 & SRR10066242SRR10096824\\\\\n",
       "\\end{tabular}\n"
      ],
      "text/markdown": [
       "\n",
       "A data.frame: 6 × 6\n",
       "\n",
       "| <!--/--> | sample1 &lt;chr&gt; | sample2 &lt;chr&gt; | identity &lt;dbl&gt; | numSame &lt;int&gt; | numCompared &lt;int&gt; | key &lt;chr&gt; |\n",
       "|---|---|---|---|---|---|---|\n",
       "| 1 | SRR10066242 | SRR10067829 | 0.05517241 | 136 | 2465 | SRR10066242SRR10067829 |\n",
       "| 2 | SRR10066242 | SRR10089861 | 0.05539830 | 137 | 2473 | SRR10066242SRR10089861 |\n",
       "| 3 | SRR10066242 | SRR10089862 | 0.05537591 | 137 | 2474 | SRR10066242SRR10089862 |\n",
       "| 4 | SRR10066242 | SRR10096821 | 0.05523964 | 136 | 2462 | SRR10066242SRR10096821 |\n",
       "| 5 | SRR10066242 | SRR10096822 | 0.05533118 | 137 | 2476 | SRR10066242SRR10096822 |\n",
       "| 6 | SRR10066242 | SRR10096824 | 0.05542071 | 137 | 2472 | SRR10066242SRR10096824 |\n",
       "\n"
      ],
      "text/plain": [
       "  sample1     sample2     identity   numSame numCompared key                   \n",
       "1 SRR10066242 SRR10067829 0.05517241 136     2465        SRR10066242SRR10067829\n",
       "2 SRR10066242 SRR10089861 0.05539830 137     2473        SRR10066242SRR10089861\n",
       "3 SRR10066242 SRR10089862 0.05537591 137     2474        SRR10066242SRR10089862\n",
       "4 SRR10066242 SRR10096821 0.05523964 136     2462        SRR10066242SRR10096821\n",
       "5 SRR10066242 SRR10096822 0.05533118 137     2476        SRR10066242SRR10096822\n",
       "6 SRR10066242 SRR10096824 0.05542071 137     2472        SRR10066242SRR10096824"
      ]
     },
     "metadata": {},
     "output_type": "display_data"
    },
    {
     "data": {
      "text/html": [
       "<table class=\"dataframe\">\n",
       "<caption>A data.frame: 6 × 6</caption>\n",
       "<thead>\n",
       "\t<tr><th></th><th scope=col>fasta1</th><th scope=col>fasta2</th><th scope=col>dist</th><th scope=col>numAllelesSame</th><th scope=col>numLociSame</th><th scope=col>key</th></tr>\n",
       "\t<tr><th></th><th scope=col>&lt;chr&gt;</th><th scope=col>&lt;chr&gt;</th><th scope=col>&lt;dbl&gt;</th><th scope=col>&lt;int&gt;</th><th scope=col>&lt;int&gt;</th><th scope=col>&lt;chr&gt;</th></tr>\n",
       "</thead>\n",
       "<tbody>\n",
       "\t<tr><th scope=row>1</th><td>SRR10066242_1.shovillSpades.etoki.fasta</td><td>SRR10067829_1.shovillSpades.etoki.fasta</td><td>0.05</td><td>165</td><td>3181</td><td>SRR10066242SRR10067829</td></tr>\n",
       "\t<tr><th scope=row>2</th><td>SRR10066242_1.shovillSpades.etoki.fasta</td><td>SRR10089861_1.shovillSpades.etoki.fasta</td><td>0.05</td><td>165</td><td>3180</td><td>SRR10066242SRR10089861</td></tr>\n",
       "\t<tr><th scope=row>3</th><td>SRR10066242_1.shovillSpades.etoki.fasta</td><td>SRR10089862_1.shovillSpades.etoki.fasta</td><td>0.05</td><td>165</td><td>3179</td><td>SRR10066242SRR10089862</td></tr>\n",
       "\t<tr><th scope=row>4</th><td>SRR10066242_1.shovillSpades.etoki.fasta</td><td>SRR10096821_1.shovillSpades.etoki.fasta</td><td>0.05</td><td>165</td><td>3181</td><td>SRR10066242SRR10096821</td></tr>\n",
       "\t<tr><th scope=row>5</th><td>SRR10066242_1.shovillSpades.etoki.fasta</td><td>SRR10096822_1.shovillSpades.etoki.fasta</td><td>0.05</td><td>166</td><td>3181</td><td>SRR10066242SRR10096822</td></tr>\n",
       "\t<tr><th scope=row>6</th><td>SRR10066242_1.shovillSpades.etoki.fasta</td><td>SRR10096824_1.shovillSpades.etoki.fasta</td><td>0.05</td><td>166</td><td>3181</td><td>SRR10066242SRR10096824</td></tr>\n",
       "</tbody>\n",
       "</table>\n"
      ],
      "text/latex": [
       "A data.frame: 6 × 6\n",
       "\\begin{tabular}{r|llllll}\n",
       "  & fasta1 & fasta2 & dist & numAllelesSame & numLociSame & key\\\\\n",
       "  & <chr> & <chr> & <dbl> & <int> & <int> & <chr>\\\\\n",
       "\\hline\n",
       "\t1 & SRR10066242\\_1.shovillSpades.etoki.fasta & SRR10067829\\_1.shovillSpades.etoki.fasta & 0.05 & 165 & 3181 & SRR10066242SRR10067829\\\\\n",
       "\t2 & SRR10066242\\_1.shovillSpades.etoki.fasta & SRR10089861\\_1.shovillSpades.etoki.fasta & 0.05 & 165 & 3180 & SRR10066242SRR10089861\\\\\n",
       "\t3 & SRR10066242\\_1.shovillSpades.etoki.fasta & SRR10089862\\_1.shovillSpades.etoki.fasta & 0.05 & 165 & 3179 & SRR10066242SRR10089862\\\\\n",
       "\t4 & SRR10066242\\_1.shovillSpades.etoki.fasta & SRR10096821\\_1.shovillSpades.etoki.fasta & 0.05 & 165 & 3181 & SRR10066242SRR10096821\\\\\n",
       "\t5 & SRR10066242\\_1.shovillSpades.etoki.fasta & SRR10096822\\_1.shovillSpades.etoki.fasta & 0.05 & 166 & 3181 & SRR10066242SRR10096822\\\\\n",
       "\t6 & SRR10066242\\_1.shovillSpades.etoki.fasta & SRR10096824\\_1.shovillSpades.etoki.fasta & 0.05 & 166 & 3181 & SRR10066242SRR10096824\\\\\n",
       "\\end{tabular}\n"
      ],
      "text/markdown": [
       "\n",
       "A data.frame: 6 × 6\n",
       "\n",
       "| <!--/--> | fasta1 &lt;chr&gt; | fasta2 &lt;chr&gt; | dist &lt;dbl&gt; | numAllelesSame &lt;int&gt; | numLociSame &lt;int&gt; | key &lt;chr&gt; |\n",
       "|---|---|---|---|---|---|---|\n",
       "| 1 | SRR10066242_1.shovillSpades.etoki.fasta | SRR10067829_1.shovillSpades.etoki.fasta | 0.05 | 165 | 3181 | SRR10066242SRR10067829 |\n",
       "| 2 | SRR10066242_1.shovillSpades.etoki.fasta | SRR10089861_1.shovillSpades.etoki.fasta | 0.05 | 165 | 3180 | SRR10066242SRR10089861 |\n",
       "| 3 | SRR10066242_1.shovillSpades.etoki.fasta | SRR10089862_1.shovillSpades.etoki.fasta | 0.05 | 165 | 3179 | SRR10066242SRR10089862 |\n",
       "| 4 | SRR10066242_1.shovillSpades.etoki.fasta | SRR10096821_1.shovillSpades.etoki.fasta | 0.05 | 165 | 3181 | SRR10066242SRR10096821 |\n",
       "| 5 | SRR10066242_1.shovillSpades.etoki.fasta | SRR10096822_1.shovillSpades.etoki.fasta | 0.05 | 166 | 3181 | SRR10066242SRR10096822 |\n",
       "| 6 | SRR10066242_1.shovillSpades.etoki.fasta | SRR10096824_1.shovillSpades.etoki.fasta | 0.05 | 166 | 3181 | SRR10066242SRR10096824 |\n",
       "\n"
      ],
      "text/plain": [
       "  fasta1                                 \n",
       "1 SRR10066242_1.shovillSpades.etoki.fasta\n",
       "2 SRR10066242_1.shovillSpades.etoki.fasta\n",
       "3 SRR10066242_1.shovillSpades.etoki.fasta\n",
       "4 SRR10066242_1.shovillSpades.etoki.fasta\n",
       "5 SRR10066242_1.shovillSpades.etoki.fasta\n",
       "6 SRR10066242_1.shovillSpades.etoki.fasta\n",
       "  fasta2                                  dist numAllelesSame numLociSame\n",
       "1 SRR10067829_1.shovillSpades.etoki.fasta 0.05 165            3181       \n",
       "2 SRR10089861_1.shovillSpades.etoki.fasta 0.05 165            3180       \n",
       "3 SRR10089862_1.shovillSpades.etoki.fasta 0.05 165            3179       \n",
       "4 SRR10096821_1.shovillSpades.etoki.fasta 0.05 165            3181       \n",
       "5 SRR10096822_1.shovillSpades.etoki.fasta 0.05 166            3181       \n",
       "6 SRR10096824_1.shovillSpades.etoki.fasta 0.05 166            3181       \n",
       "  key                   \n",
       "1 SRR10066242SRR10067829\n",
       "2 SRR10066242SRR10089861\n",
       "3 SRR10066242SRR10089862\n",
       "4 SRR10066242SRR10096821\n",
       "5 SRR10066242SRR10096822\n",
       "6 SRR10066242SRR10096824"
      ]
     },
     "metadata": {},
     "output_type": "display_data"
    }
   ],
   "source": [
    "# add a key for merging later\n",
    "bn$key <- paste(bn$sample1, bn$sample2, sep=\"\")\n",
    "etoki$key <- gsub(\"_1.shovillSpades.etoki.fasta\", \"\", paste(basename(etoki$fasta1), basename(etoki$fasta2), sep=\"\"))\n",
    "chewbbaca$key <- gsub(\"_1.shovillSpades.fasta\",\"\",paste(chewbbaca$sample1,chewbbaca$sample2, sep=\"\"))\n",
    "colorid$key <- gsub(\"_1.shovillSpades\", \"\", paste(colorid$sample1,colorid$sample2, sep=\"\"))\n",
    "\n",
    "# make each spreadsheet have distinct columns\n",
    "head(chewbbaca) \n",
    "head(colorid)\n",
    "head(bn)\n",
    "head(etoki)"
   ]
  },
  {
   "cell_type": "code",
   "execution_count": 34,
   "id": "76ffe766-6863-43df-bc69-cd788eac06e7",
   "metadata": {},
   "outputs": [],
   "source": [
    "# make each spreadsheet have distinct columns\n",
    "colnames(chewbbaca) <- c(\"sample1.chewbbaca\",\"sample2.chewbbaca\",\"identity.chewbbaca\", \"numSame.chewbbaca\", \"numCompared.chewbbaca\",\"key\")\n",
    "colnames(colorid) <- c(\"sample1.colorid\",\"sample2.colorid\",\"identity.colorid\", \"numSame.colorid\", \"numCompared.colorid\",\"key\")\n",
    "colnames(bn) <- c(\"SRR1\", \"SRR2\", \"identity.bn\", \"numSame.bn\", \"numCompared.bn\", \"key\")\n",
    "colnames(etoki) <- c(\"sample1.etoki\", \"sample2.etoki\", \"identity.etoki\", \"numSame.etoki\", \"numCompared.etoki\", \"key\")"
   ]
  },
  {
   "cell_type": "code",
   "execution_count": 35,
   "id": "42a60e61-69fe-453b-a723-680fa18469d4",
   "metadata": {},
   "outputs": [
    {
     "data": {
      "text/html": [
       "<table class=\"dataframe\">\n",
       "<caption>A data.frame: 6 × 6</caption>\n",
       "<thead>\n",
       "\t<tr><th></th><th scope=col>sample1.chewbbaca</th><th scope=col>sample2.chewbbaca</th><th scope=col>identity.chewbbaca</th><th scope=col>numSame.chewbbaca</th><th scope=col>numCompared.chewbbaca</th><th scope=col>key</th></tr>\n",
       "\t<tr><th></th><th scope=col>&lt;chr&gt;</th><th scope=col>&lt;chr&gt;</th><th scope=col>&lt;dbl&gt;</th><th scope=col>&lt;int&gt;</th><th scope=col>&lt;int&gt;</th><th scope=col>&lt;chr&gt;</th></tr>\n",
       "</thead>\n",
       "<tbody>\n",
       "\t<tr><th scope=row>1</th><td>SRR10066242_1.shovillSpades.fasta</td><td>SRR10067829_1.shovillSpades.fasta</td><td>0.04609475</td><td>144</td><td>3124</td><td>SRR10066242SRR10067829</td></tr>\n",
       "\t<tr><th scope=row>2</th><td>SRR10066242_1.shovillSpades.fasta</td><td>SRR10089861_1.shovillSpades.fasta</td><td>0.04610951</td><td>144</td><td>3123</td><td>SRR10066242SRR10089861</td></tr>\n",
       "\t<tr><th scope=row>3</th><td>SRR10066242_1.shovillSpades.fasta</td><td>SRR10089862_1.shovillSpades.fasta</td><td>0.04612428</td><td>144</td><td>3122</td><td>SRR10066242SRR10089862</td></tr>\n",
       "\t<tr><th scope=row>4</th><td>SRR10066242_1.shovillSpades.fasta</td><td>SRR10096821_1.shovillSpades.fasta</td><td>0.04609475</td><td>144</td><td>3124</td><td>SRR10066242SRR10096821</td></tr>\n",
       "\t<tr><th scope=row>5</th><td>SRR10066242_1.shovillSpades.fasta</td><td>SRR10096822_1.shovillSpades.fasta</td><td>0.04641485</td><td>145</td><td>3124</td><td>SRR10066242SRR10096822</td></tr>\n",
       "\t<tr><th scope=row>6</th><td>SRR10066242_1.shovillSpades.fasta</td><td>SRR10096824_1.shovillSpades.fasta</td><td>0.04641485</td><td>145</td><td>3124</td><td>SRR10066242SRR10096824</td></tr>\n",
       "</tbody>\n",
       "</table>\n"
      ],
      "text/latex": [
       "A data.frame: 6 × 6\n",
       "\\begin{tabular}{r|llllll}\n",
       "  & sample1.chewbbaca & sample2.chewbbaca & identity.chewbbaca & numSame.chewbbaca & numCompared.chewbbaca & key\\\\\n",
       "  & <chr> & <chr> & <dbl> & <int> & <int> & <chr>\\\\\n",
       "\\hline\n",
       "\t1 & SRR10066242\\_1.shovillSpades.fasta & SRR10067829\\_1.shovillSpades.fasta & 0.04609475 & 144 & 3124 & SRR10066242SRR10067829\\\\\n",
       "\t2 & SRR10066242\\_1.shovillSpades.fasta & SRR10089861\\_1.shovillSpades.fasta & 0.04610951 & 144 & 3123 & SRR10066242SRR10089861\\\\\n",
       "\t3 & SRR10066242\\_1.shovillSpades.fasta & SRR10089862\\_1.shovillSpades.fasta & 0.04612428 & 144 & 3122 & SRR10066242SRR10089862\\\\\n",
       "\t4 & SRR10066242\\_1.shovillSpades.fasta & SRR10096821\\_1.shovillSpades.fasta & 0.04609475 & 144 & 3124 & SRR10066242SRR10096821\\\\\n",
       "\t5 & SRR10066242\\_1.shovillSpades.fasta & SRR10096822\\_1.shovillSpades.fasta & 0.04641485 & 145 & 3124 & SRR10066242SRR10096822\\\\\n",
       "\t6 & SRR10066242\\_1.shovillSpades.fasta & SRR10096824\\_1.shovillSpades.fasta & 0.04641485 & 145 & 3124 & SRR10066242SRR10096824\\\\\n",
       "\\end{tabular}\n"
      ],
      "text/markdown": [
       "\n",
       "A data.frame: 6 × 6\n",
       "\n",
       "| <!--/--> | sample1.chewbbaca &lt;chr&gt; | sample2.chewbbaca &lt;chr&gt; | identity.chewbbaca &lt;dbl&gt; | numSame.chewbbaca &lt;int&gt; | numCompared.chewbbaca &lt;int&gt; | key &lt;chr&gt; |\n",
       "|---|---|---|---|---|---|---|\n",
       "| 1 | SRR10066242_1.shovillSpades.fasta | SRR10067829_1.shovillSpades.fasta | 0.04609475 | 144 | 3124 | SRR10066242SRR10067829 |\n",
       "| 2 | SRR10066242_1.shovillSpades.fasta | SRR10089861_1.shovillSpades.fasta | 0.04610951 | 144 | 3123 | SRR10066242SRR10089861 |\n",
       "| 3 | SRR10066242_1.shovillSpades.fasta | SRR10089862_1.shovillSpades.fasta | 0.04612428 | 144 | 3122 | SRR10066242SRR10089862 |\n",
       "| 4 | SRR10066242_1.shovillSpades.fasta | SRR10096821_1.shovillSpades.fasta | 0.04609475 | 144 | 3124 | SRR10066242SRR10096821 |\n",
       "| 5 | SRR10066242_1.shovillSpades.fasta | SRR10096822_1.shovillSpades.fasta | 0.04641485 | 145 | 3124 | SRR10066242SRR10096822 |\n",
       "| 6 | SRR10066242_1.shovillSpades.fasta | SRR10096824_1.shovillSpades.fasta | 0.04641485 | 145 | 3124 | SRR10066242SRR10096824 |\n",
       "\n"
      ],
      "text/plain": [
       "  sample1.chewbbaca                 sample2.chewbbaca                \n",
       "1 SRR10066242_1.shovillSpades.fasta SRR10067829_1.shovillSpades.fasta\n",
       "2 SRR10066242_1.shovillSpades.fasta SRR10089861_1.shovillSpades.fasta\n",
       "3 SRR10066242_1.shovillSpades.fasta SRR10089862_1.shovillSpades.fasta\n",
       "4 SRR10066242_1.shovillSpades.fasta SRR10096821_1.shovillSpades.fasta\n",
       "5 SRR10066242_1.shovillSpades.fasta SRR10096822_1.shovillSpades.fasta\n",
       "6 SRR10066242_1.shovillSpades.fasta SRR10096824_1.shovillSpades.fasta\n",
       "  identity.chewbbaca numSame.chewbbaca numCompared.chewbbaca\n",
       "1 0.04609475         144               3124                 \n",
       "2 0.04610951         144               3123                 \n",
       "3 0.04612428         144               3122                 \n",
       "4 0.04609475         144               3124                 \n",
       "5 0.04641485         145               3124                 \n",
       "6 0.04641485         145               3124                 \n",
       "  key                   \n",
       "1 SRR10066242SRR10067829\n",
       "2 SRR10066242SRR10089861\n",
       "3 SRR10066242SRR10089862\n",
       "4 SRR10066242SRR10096821\n",
       "5 SRR10066242SRR10096822\n",
       "6 SRR10066242SRR10096824"
      ]
     },
     "metadata": {},
     "output_type": "display_data"
    },
    {
     "data": {
      "text/html": [
       "<table class=\"dataframe\">\n",
       "<caption>A data.frame: 6 × 6</caption>\n",
       "<thead>\n",
       "\t<tr><th></th><th scope=col>SRR1</th><th scope=col>SRR2</th><th scope=col>identity.bn</th><th scope=col>numSame.bn</th><th scope=col>numCompared.bn</th><th scope=col>key</th></tr>\n",
       "\t<tr><th></th><th scope=col>&lt;chr&gt;</th><th scope=col>&lt;chr&gt;</th><th scope=col>&lt;dbl&gt;</th><th scope=col>&lt;int&gt;</th><th scope=col>&lt;int&gt;</th><th scope=col>&lt;chr&gt;</th></tr>\n",
       "</thead>\n",
       "<tbody>\n",
       "\t<tr><th scope=row>1</th><td>SRR10066242</td><td>SRR10067829</td><td>0.05517241</td><td>136</td><td>2465</td><td>SRR10066242SRR10067829</td></tr>\n",
       "\t<tr><th scope=row>2</th><td>SRR10066242</td><td>SRR10089861</td><td>0.05539830</td><td>137</td><td>2473</td><td>SRR10066242SRR10089861</td></tr>\n",
       "\t<tr><th scope=row>3</th><td>SRR10066242</td><td>SRR10089862</td><td>0.05537591</td><td>137</td><td>2474</td><td>SRR10066242SRR10089862</td></tr>\n",
       "\t<tr><th scope=row>4</th><td>SRR10066242</td><td>SRR10096821</td><td>0.05523964</td><td>136</td><td>2462</td><td>SRR10066242SRR10096821</td></tr>\n",
       "\t<tr><th scope=row>5</th><td>SRR10066242</td><td>SRR10096822</td><td>0.05533118</td><td>137</td><td>2476</td><td>SRR10066242SRR10096822</td></tr>\n",
       "\t<tr><th scope=row>6</th><td>SRR10066242</td><td>SRR10096824</td><td>0.05542071</td><td>137</td><td>2472</td><td>SRR10066242SRR10096824</td></tr>\n",
       "</tbody>\n",
       "</table>\n"
      ],
      "text/latex": [
       "A data.frame: 6 × 6\n",
       "\\begin{tabular}{r|llllll}\n",
       "  & SRR1 & SRR2 & identity.bn & numSame.bn & numCompared.bn & key\\\\\n",
       "  & <chr> & <chr> & <dbl> & <int> & <int> & <chr>\\\\\n",
       "\\hline\n",
       "\t1 & SRR10066242 & SRR10067829 & 0.05517241 & 136 & 2465 & SRR10066242SRR10067829\\\\\n",
       "\t2 & SRR10066242 & SRR10089861 & 0.05539830 & 137 & 2473 & SRR10066242SRR10089861\\\\\n",
       "\t3 & SRR10066242 & SRR10089862 & 0.05537591 & 137 & 2474 & SRR10066242SRR10089862\\\\\n",
       "\t4 & SRR10066242 & SRR10096821 & 0.05523964 & 136 & 2462 & SRR10066242SRR10096821\\\\\n",
       "\t5 & SRR10066242 & SRR10096822 & 0.05533118 & 137 & 2476 & SRR10066242SRR10096822\\\\\n",
       "\t6 & SRR10066242 & SRR10096824 & 0.05542071 & 137 & 2472 & SRR10066242SRR10096824\\\\\n",
       "\\end{tabular}\n"
      ],
      "text/markdown": [
       "\n",
       "A data.frame: 6 × 6\n",
       "\n",
       "| <!--/--> | SRR1 &lt;chr&gt; | SRR2 &lt;chr&gt; | identity.bn &lt;dbl&gt; | numSame.bn &lt;int&gt; | numCompared.bn &lt;int&gt; | key &lt;chr&gt; |\n",
       "|---|---|---|---|---|---|---|\n",
       "| 1 | SRR10066242 | SRR10067829 | 0.05517241 | 136 | 2465 | SRR10066242SRR10067829 |\n",
       "| 2 | SRR10066242 | SRR10089861 | 0.05539830 | 137 | 2473 | SRR10066242SRR10089861 |\n",
       "| 3 | SRR10066242 | SRR10089862 | 0.05537591 | 137 | 2474 | SRR10066242SRR10089862 |\n",
       "| 4 | SRR10066242 | SRR10096821 | 0.05523964 | 136 | 2462 | SRR10066242SRR10096821 |\n",
       "| 5 | SRR10066242 | SRR10096822 | 0.05533118 | 137 | 2476 | SRR10066242SRR10096822 |\n",
       "| 6 | SRR10066242 | SRR10096824 | 0.05542071 | 137 | 2472 | SRR10066242SRR10096824 |\n",
       "\n"
      ],
      "text/plain": [
       "  SRR1        SRR2        identity.bn numSame.bn numCompared.bn\n",
       "1 SRR10066242 SRR10067829 0.05517241  136        2465          \n",
       "2 SRR10066242 SRR10089861 0.05539830  137        2473          \n",
       "3 SRR10066242 SRR10089862 0.05537591  137        2474          \n",
       "4 SRR10066242 SRR10096821 0.05523964  136        2462          \n",
       "5 SRR10066242 SRR10096822 0.05533118  137        2476          \n",
       "6 SRR10066242 SRR10096824 0.05542071  137        2472          \n",
       "  key                   \n",
       "1 SRR10066242SRR10067829\n",
       "2 SRR10066242SRR10089861\n",
       "3 SRR10066242SRR10089862\n",
       "4 SRR10066242SRR10096821\n",
       "5 SRR10066242SRR10096822\n",
       "6 SRR10066242SRR10096824"
      ]
     },
     "metadata": {},
     "output_type": "display_data"
    },
    {
     "data": {
      "text/html": [
       "<table class=\"dataframe\">\n",
       "<caption>A data.frame: 6 × 6</caption>\n",
       "<thead>\n",
       "\t<tr><th></th><th scope=col>sample1.etoki</th><th scope=col>sample2.etoki</th><th scope=col>identity.etoki</th><th scope=col>numSame.etoki</th><th scope=col>numCompared.etoki</th><th scope=col>key</th></tr>\n",
       "\t<tr><th></th><th scope=col>&lt;chr&gt;</th><th scope=col>&lt;chr&gt;</th><th scope=col>&lt;dbl&gt;</th><th scope=col>&lt;int&gt;</th><th scope=col>&lt;int&gt;</th><th scope=col>&lt;chr&gt;</th></tr>\n",
       "</thead>\n",
       "<tbody>\n",
       "\t<tr><th scope=row>1</th><td>SRR10066242_1.shovillSpades.etoki.fasta</td><td>SRR10067829_1.shovillSpades.etoki.fasta</td><td>0.05</td><td>165</td><td>3181</td><td>SRR10066242SRR10067829</td></tr>\n",
       "\t<tr><th scope=row>2</th><td>SRR10066242_1.shovillSpades.etoki.fasta</td><td>SRR10089861_1.shovillSpades.etoki.fasta</td><td>0.05</td><td>165</td><td>3180</td><td>SRR10066242SRR10089861</td></tr>\n",
       "\t<tr><th scope=row>3</th><td>SRR10066242_1.shovillSpades.etoki.fasta</td><td>SRR10089862_1.shovillSpades.etoki.fasta</td><td>0.05</td><td>165</td><td>3179</td><td>SRR10066242SRR10089862</td></tr>\n",
       "\t<tr><th scope=row>4</th><td>SRR10066242_1.shovillSpades.etoki.fasta</td><td>SRR10096821_1.shovillSpades.etoki.fasta</td><td>0.05</td><td>165</td><td>3181</td><td>SRR10066242SRR10096821</td></tr>\n",
       "\t<tr><th scope=row>5</th><td>SRR10066242_1.shovillSpades.etoki.fasta</td><td>SRR10096822_1.shovillSpades.etoki.fasta</td><td>0.05</td><td>166</td><td>3181</td><td>SRR10066242SRR10096822</td></tr>\n",
       "\t<tr><th scope=row>6</th><td>SRR10066242_1.shovillSpades.etoki.fasta</td><td>SRR10096824_1.shovillSpades.etoki.fasta</td><td>0.05</td><td>166</td><td>3181</td><td>SRR10066242SRR10096824</td></tr>\n",
       "</tbody>\n",
       "</table>\n"
      ],
      "text/latex": [
       "A data.frame: 6 × 6\n",
       "\\begin{tabular}{r|llllll}\n",
       "  & sample1.etoki & sample2.etoki & identity.etoki & numSame.etoki & numCompared.etoki & key\\\\\n",
       "  & <chr> & <chr> & <dbl> & <int> & <int> & <chr>\\\\\n",
       "\\hline\n",
       "\t1 & SRR10066242\\_1.shovillSpades.etoki.fasta & SRR10067829\\_1.shovillSpades.etoki.fasta & 0.05 & 165 & 3181 & SRR10066242SRR10067829\\\\\n",
       "\t2 & SRR10066242\\_1.shovillSpades.etoki.fasta & SRR10089861\\_1.shovillSpades.etoki.fasta & 0.05 & 165 & 3180 & SRR10066242SRR10089861\\\\\n",
       "\t3 & SRR10066242\\_1.shovillSpades.etoki.fasta & SRR10089862\\_1.shovillSpades.etoki.fasta & 0.05 & 165 & 3179 & SRR10066242SRR10089862\\\\\n",
       "\t4 & SRR10066242\\_1.shovillSpades.etoki.fasta & SRR10096821\\_1.shovillSpades.etoki.fasta & 0.05 & 165 & 3181 & SRR10066242SRR10096821\\\\\n",
       "\t5 & SRR10066242\\_1.shovillSpades.etoki.fasta & SRR10096822\\_1.shovillSpades.etoki.fasta & 0.05 & 166 & 3181 & SRR10066242SRR10096822\\\\\n",
       "\t6 & SRR10066242\\_1.shovillSpades.etoki.fasta & SRR10096824\\_1.shovillSpades.etoki.fasta & 0.05 & 166 & 3181 & SRR10066242SRR10096824\\\\\n",
       "\\end{tabular}\n"
      ],
      "text/markdown": [
       "\n",
       "A data.frame: 6 × 6\n",
       "\n",
       "| <!--/--> | sample1.etoki &lt;chr&gt; | sample2.etoki &lt;chr&gt; | identity.etoki &lt;dbl&gt; | numSame.etoki &lt;int&gt; | numCompared.etoki &lt;int&gt; | key &lt;chr&gt; |\n",
       "|---|---|---|---|---|---|---|\n",
       "| 1 | SRR10066242_1.shovillSpades.etoki.fasta | SRR10067829_1.shovillSpades.etoki.fasta | 0.05 | 165 | 3181 | SRR10066242SRR10067829 |\n",
       "| 2 | SRR10066242_1.shovillSpades.etoki.fasta | SRR10089861_1.shovillSpades.etoki.fasta | 0.05 | 165 | 3180 | SRR10066242SRR10089861 |\n",
       "| 3 | SRR10066242_1.shovillSpades.etoki.fasta | SRR10089862_1.shovillSpades.etoki.fasta | 0.05 | 165 | 3179 | SRR10066242SRR10089862 |\n",
       "| 4 | SRR10066242_1.shovillSpades.etoki.fasta | SRR10096821_1.shovillSpades.etoki.fasta | 0.05 | 165 | 3181 | SRR10066242SRR10096821 |\n",
       "| 5 | SRR10066242_1.shovillSpades.etoki.fasta | SRR10096822_1.shovillSpades.etoki.fasta | 0.05 | 166 | 3181 | SRR10066242SRR10096822 |\n",
       "| 6 | SRR10066242_1.shovillSpades.etoki.fasta | SRR10096824_1.shovillSpades.etoki.fasta | 0.05 | 166 | 3181 | SRR10066242SRR10096824 |\n",
       "\n"
      ],
      "text/plain": [
       "  sample1.etoki                          \n",
       "1 SRR10066242_1.shovillSpades.etoki.fasta\n",
       "2 SRR10066242_1.shovillSpades.etoki.fasta\n",
       "3 SRR10066242_1.shovillSpades.etoki.fasta\n",
       "4 SRR10066242_1.shovillSpades.etoki.fasta\n",
       "5 SRR10066242_1.shovillSpades.etoki.fasta\n",
       "6 SRR10066242_1.shovillSpades.etoki.fasta\n",
       "  sample2.etoki                           identity.etoki numSame.etoki\n",
       "1 SRR10067829_1.shovillSpades.etoki.fasta 0.05           165          \n",
       "2 SRR10089861_1.shovillSpades.etoki.fasta 0.05           165          \n",
       "3 SRR10089862_1.shovillSpades.etoki.fasta 0.05           165          \n",
       "4 SRR10096821_1.shovillSpades.etoki.fasta 0.05           165          \n",
       "5 SRR10096822_1.shovillSpades.etoki.fasta 0.05           166          \n",
       "6 SRR10096824_1.shovillSpades.etoki.fasta 0.05           166          \n",
       "  numCompared.etoki key                   \n",
       "1 3181              SRR10066242SRR10067829\n",
       "2 3180              SRR10066242SRR10089861\n",
       "3 3179              SRR10066242SRR10089862\n",
       "4 3181              SRR10066242SRR10096821\n",
       "5 3181              SRR10066242SRR10096822\n",
       "6 3181              SRR10066242SRR10096824"
      ]
     },
     "metadata": {},
     "output_type": "display_data"
    },
    {
     "data": {
      "text/html": [
       "<table class=\"dataframe\">\n",
       "<caption>A data.frame: 6 × 6</caption>\n",
       "<thead>\n",
       "\t<tr><th></th><th scope=col>sample1.colorid</th><th scope=col>sample2.colorid</th><th scope=col>identity.colorid</th><th scope=col>numSame.colorid</th><th scope=col>numCompared.colorid</th><th scope=col>key</th></tr>\n",
       "\t<tr><th></th><th scope=col>&lt;chr&gt;</th><th scope=col>&lt;chr&gt;</th><th scope=col>&lt;dbl&gt;</th><th scope=col>&lt;int&gt;</th><th scope=col>&lt;int&gt;</th><th scope=col>&lt;chr&gt;</th></tr>\n",
       "</thead>\n",
       "<tbody>\n",
       "\t<tr><th scope=row>1</th><td>SRR10066242_1.shovillSpades</td><td>SRR10067829_1.shovillSpades</td><td>0.05741279</td><td>158</td><td>2752</td><td>SRR10066242SRR10067829</td></tr>\n",
       "\t<tr><th scope=row>2</th><td>SRR10066242_1.shovillSpades</td><td>SRR10089861_1.shovillSpades</td><td>0.05711168</td><td>157</td><td>2749</td><td>SRR10066242SRR10089861</td></tr>\n",
       "\t<tr><th scope=row>3</th><td>SRR10066242_1.shovillSpades</td><td>SRR10089862_1.shovillSpades</td><td>0.05707016</td><td>157</td><td>2751</td><td>SRR10066242SRR10089862</td></tr>\n",
       "\t<tr><th scope=row>4</th><td>SRR10066242_1.shovillSpades</td><td>SRR10096821_1.shovillSpades</td><td>0.05668605</td><td>156</td><td>2752</td><td>SRR10066242SRR10096821</td></tr>\n",
       "\t<tr><th scope=row>5</th><td>SRR10066242_1.shovillSpades</td><td>SRR10096822_1.shovillSpades</td><td>0.05674791</td><td>156</td><td>2749</td><td>SRR10066242SRR10096822</td></tr>\n",
       "\t<tr><th scope=row>6</th><td>SRR10066242_1.shovillSpades</td><td>SRR10096824_1.shovillSpades</td><td>0.05745455</td><td>158</td><td>2750</td><td>SRR10066242SRR10096824</td></tr>\n",
       "</tbody>\n",
       "</table>\n"
      ],
      "text/latex": [
       "A data.frame: 6 × 6\n",
       "\\begin{tabular}{r|llllll}\n",
       "  & sample1.colorid & sample2.colorid & identity.colorid & numSame.colorid & numCompared.colorid & key\\\\\n",
       "  & <chr> & <chr> & <dbl> & <int> & <int> & <chr>\\\\\n",
       "\\hline\n",
       "\t1 & SRR10066242\\_1.shovillSpades & SRR10067829\\_1.shovillSpades & 0.05741279 & 158 & 2752 & SRR10066242SRR10067829\\\\\n",
       "\t2 & SRR10066242\\_1.shovillSpades & SRR10089861\\_1.shovillSpades & 0.05711168 & 157 & 2749 & SRR10066242SRR10089861\\\\\n",
       "\t3 & SRR10066242\\_1.shovillSpades & SRR10089862\\_1.shovillSpades & 0.05707016 & 157 & 2751 & SRR10066242SRR10089862\\\\\n",
       "\t4 & SRR10066242\\_1.shovillSpades & SRR10096821\\_1.shovillSpades & 0.05668605 & 156 & 2752 & SRR10066242SRR10096821\\\\\n",
       "\t5 & SRR10066242\\_1.shovillSpades & SRR10096822\\_1.shovillSpades & 0.05674791 & 156 & 2749 & SRR10066242SRR10096822\\\\\n",
       "\t6 & SRR10066242\\_1.shovillSpades & SRR10096824\\_1.shovillSpades & 0.05745455 & 158 & 2750 & SRR10066242SRR10096824\\\\\n",
       "\\end{tabular}\n"
      ],
      "text/markdown": [
       "\n",
       "A data.frame: 6 × 6\n",
       "\n",
       "| <!--/--> | sample1.colorid &lt;chr&gt; | sample2.colorid &lt;chr&gt; | identity.colorid &lt;dbl&gt; | numSame.colorid &lt;int&gt; | numCompared.colorid &lt;int&gt; | key &lt;chr&gt; |\n",
       "|---|---|---|---|---|---|---|\n",
       "| 1 | SRR10066242_1.shovillSpades | SRR10067829_1.shovillSpades | 0.05741279 | 158 | 2752 | SRR10066242SRR10067829 |\n",
       "| 2 | SRR10066242_1.shovillSpades | SRR10089861_1.shovillSpades | 0.05711168 | 157 | 2749 | SRR10066242SRR10089861 |\n",
       "| 3 | SRR10066242_1.shovillSpades | SRR10089862_1.shovillSpades | 0.05707016 | 157 | 2751 | SRR10066242SRR10089862 |\n",
       "| 4 | SRR10066242_1.shovillSpades | SRR10096821_1.shovillSpades | 0.05668605 | 156 | 2752 | SRR10066242SRR10096821 |\n",
       "| 5 | SRR10066242_1.shovillSpades | SRR10096822_1.shovillSpades | 0.05674791 | 156 | 2749 | SRR10066242SRR10096822 |\n",
       "| 6 | SRR10066242_1.shovillSpades | SRR10096824_1.shovillSpades | 0.05745455 | 158 | 2750 | SRR10066242SRR10096824 |\n",
       "\n"
      ],
      "text/plain": [
       "  sample1.colorid             sample2.colorid             identity.colorid\n",
       "1 SRR10066242_1.shovillSpades SRR10067829_1.shovillSpades 0.05741279      \n",
       "2 SRR10066242_1.shovillSpades SRR10089861_1.shovillSpades 0.05711168      \n",
       "3 SRR10066242_1.shovillSpades SRR10089862_1.shovillSpades 0.05707016      \n",
       "4 SRR10066242_1.shovillSpades SRR10096821_1.shovillSpades 0.05668605      \n",
       "5 SRR10066242_1.shovillSpades SRR10096822_1.shovillSpades 0.05674791      \n",
       "6 SRR10066242_1.shovillSpades SRR10096824_1.shovillSpades 0.05745455      \n",
       "  numSame.colorid numCompared.colorid key                   \n",
       "1 158             2752                SRR10066242SRR10067829\n",
       "2 157             2749                SRR10066242SRR10089861\n",
       "3 157             2751                SRR10066242SRR10089862\n",
       "4 156             2752                SRR10066242SRR10096821\n",
       "5 156             2749                SRR10066242SRR10096822\n",
       "6 158             2750                SRR10066242SRR10096824"
      ]
     },
     "metadata": {},
     "output_type": "display_data"
    }
   ],
   "source": [
    "head(chewbbaca)\n",
    "head(bn)\n",
    "head(etoki)\n",
    "head(colorid)"
   ]
  },
  {
   "cell_type": "code",
   "execution_count": 36,
   "id": "51bd2459-8330-43fa-9bda-11737d56ef9a",
   "metadata": {},
   "outputs": [
    {
     "data": {
      "text/html": [
       "<table class=\"dataframe\">\n",
       "<caption>A data.frame: 6 × 21</caption>\n",
       "<thead>\n",
       "\t<tr><th></th><th scope=col>key</th><th scope=col>sample1.etoki</th><th scope=col>sample2.etoki</th><th scope=col>identity.etoki</th><th scope=col>numSame.etoki</th><th scope=col>numCompared.etoki</th><th scope=col>sample1.chewbbaca</th><th scope=col>sample2.chewbbaca</th><th scope=col>identity.chewbbaca</th><th scope=col>numSame.chewbbaca</th><th scope=col>⋯</th><th scope=col>SRR1</th><th scope=col>SRR2</th><th scope=col>identity.bn</th><th scope=col>numSame.bn</th><th scope=col>numCompared.bn</th><th scope=col>sample1.colorid</th><th scope=col>sample2.colorid</th><th scope=col>identity.colorid</th><th scope=col>numSame.colorid</th><th scope=col>numCompared.colorid</th></tr>\n",
       "\t<tr><th></th><th scope=col>&lt;chr&gt;</th><th scope=col>&lt;chr&gt;</th><th scope=col>&lt;chr&gt;</th><th scope=col>&lt;dbl&gt;</th><th scope=col>&lt;int&gt;</th><th scope=col>&lt;int&gt;</th><th scope=col>&lt;chr&gt;</th><th scope=col>&lt;chr&gt;</th><th scope=col>&lt;dbl&gt;</th><th scope=col>&lt;int&gt;</th><th scope=col>⋯</th><th scope=col>&lt;chr&gt;</th><th scope=col>&lt;chr&gt;</th><th scope=col>&lt;dbl&gt;</th><th scope=col>&lt;int&gt;</th><th scope=col>&lt;int&gt;</th><th scope=col>&lt;chr&gt;</th><th scope=col>&lt;chr&gt;</th><th scope=col>&lt;dbl&gt;</th><th scope=col>&lt;int&gt;</th><th scope=col>&lt;int&gt;</th></tr>\n",
       "</thead>\n",
       "<tbody>\n",
       "\t<tr><th scope=row>1</th><td>SRR10066242SRR10067829</td><td>SRR10066242_1.shovillSpades.etoki.fasta</td><td>SRR10067829_1.shovillSpades.etoki.fasta</td><td>0.05</td><td>165</td><td>3181</td><td>SRR10066242_1.shovillSpades.fasta</td><td>SRR10067829_1.shovillSpades.fasta</td><td>0.04609475</td><td>144</td><td>⋯</td><td>SRR10066242</td><td>SRR10067829</td><td>0.05517241</td><td>136</td><td>2465</td><td>SRR10066242_1.shovillSpades</td><td>SRR10067829_1.shovillSpades</td><td>0.05741279</td><td>158</td><td>2752</td></tr>\n",
       "\t<tr><th scope=row>2</th><td>SRR10066242SRR10089861</td><td>SRR10066242_1.shovillSpades.etoki.fasta</td><td>SRR10089861_1.shovillSpades.etoki.fasta</td><td>0.05</td><td>165</td><td>3180</td><td>SRR10066242_1.shovillSpades.fasta</td><td>SRR10089861_1.shovillSpades.fasta</td><td>0.04610951</td><td>144</td><td>⋯</td><td>SRR10066242</td><td>SRR10089861</td><td>0.05539830</td><td>137</td><td>2473</td><td>SRR10066242_1.shovillSpades</td><td>SRR10089861_1.shovillSpades</td><td>0.05711168</td><td>157</td><td>2749</td></tr>\n",
       "\t<tr><th scope=row>3</th><td>SRR10066242SRR10089862</td><td>SRR10066242_1.shovillSpades.etoki.fasta</td><td>SRR10089862_1.shovillSpades.etoki.fasta</td><td>0.05</td><td>165</td><td>3179</td><td>SRR10066242_1.shovillSpades.fasta</td><td>SRR10089862_1.shovillSpades.fasta</td><td>0.04612428</td><td>144</td><td>⋯</td><td>SRR10066242</td><td>SRR10089862</td><td>0.05537591</td><td>137</td><td>2474</td><td>SRR10066242_1.shovillSpades</td><td>SRR10089862_1.shovillSpades</td><td>0.05707016</td><td>157</td><td>2751</td></tr>\n",
       "\t<tr><th scope=row>4</th><td>SRR10066242SRR10096821</td><td>SRR10066242_1.shovillSpades.etoki.fasta</td><td>SRR10096821_1.shovillSpades.etoki.fasta</td><td>0.05</td><td>165</td><td>3181</td><td>SRR10066242_1.shovillSpades.fasta</td><td>SRR10096821_1.shovillSpades.fasta</td><td>0.04609475</td><td>144</td><td>⋯</td><td>SRR10066242</td><td>SRR10096821</td><td>0.05523964</td><td>136</td><td>2462</td><td>SRR10066242_1.shovillSpades</td><td>SRR10096821_1.shovillSpades</td><td>0.05668605</td><td>156</td><td>2752</td></tr>\n",
       "\t<tr><th scope=row>5</th><td>SRR10066242SRR10096822</td><td>SRR10066242_1.shovillSpades.etoki.fasta</td><td>SRR10096822_1.shovillSpades.etoki.fasta</td><td>0.05</td><td>166</td><td>3181</td><td>SRR10066242_1.shovillSpades.fasta</td><td>SRR10096822_1.shovillSpades.fasta</td><td>0.04641485</td><td>145</td><td>⋯</td><td>SRR10066242</td><td>SRR10096822</td><td>0.05533118</td><td>137</td><td>2476</td><td>SRR10066242_1.shovillSpades</td><td>SRR10096822_1.shovillSpades</td><td>0.05674791</td><td>156</td><td>2749</td></tr>\n",
       "\t<tr><th scope=row>6</th><td>SRR10066242SRR10096824</td><td>SRR10066242_1.shovillSpades.etoki.fasta</td><td>SRR10096824_1.shovillSpades.etoki.fasta</td><td>0.05</td><td>166</td><td>3181</td><td>SRR10066242_1.shovillSpades.fasta</td><td>SRR10096824_1.shovillSpades.fasta</td><td>0.04641485</td><td>145</td><td>⋯</td><td>SRR10066242</td><td>SRR10096824</td><td>0.05542071</td><td>137</td><td>2472</td><td>SRR10066242_1.shovillSpades</td><td>SRR10096824_1.shovillSpades</td><td>0.05745455</td><td>158</td><td>2750</td></tr>\n",
       "</tbody>\n",
       "</table>\n"
      ],
      "text/latex": [
       "A data.frame: 6 × 21\n",
       "\\begin{tabular}{r|lllllllllllllllllllll}\n",
       "  & key & sample1.etoki & sample2.etoki & identity.etoki & numSame.etoki & numCompared.etoki & sample1.chewbbaca & sample2.chewbbaca & identity.chewbbaca & numSame.chewbbaca & ⋯ & SRR1 & SRR2 & identity.bn & numSame.bn & numCompared.bn & sample1.colorid & sample2.colorid & identity.colorid & numSame.colorid & numCompared.colorid\\\\\n",
       "  & <chr> & <chr> & <chr> & <dbl> & <int> & <int> & <chr> & <chr> & <dbl> & <int> & ⋯ & <chr> & <chr> & <dbl> & <int> & <int> & <chr> & <chr> & <dbl> & <int> & <int>\\\\\n",
       "\\hline\n",
       "\t1 & SRR10066242SRR10067829 & SRR10066242\\_1.shovillSpades.etoki.fasta & SRR10067829\\_1.shovillSpades.etoki.fasta & 0.05 & 165 & 3181 & SRR10066242\\_1.shovillSpades.fasta & SRR10067829\\_1.shovillSpades.fasta & 0.04609475 & 144 & ⋯ & SRR10066242 & SRR10067829 & 0.05517241 & 136 & 2465 & SRR10066242\\_1.shovillSpades & SRR10067829\\_1.shovillSpades & 0.05741279 & 158 & 2752\\\\\n",
       "\t2 & SRR10066242SRR10089861 & SRR10066242\\_1.shovillSpades.etoki.fasta & SRR10089861\\_1.shovillSpades.etoki.fasta & 0.05 & 165 & 3180 & SRR10066242\\_1.shovillSpades.fasta & SRR10089861\\_1.shovillSpades.fasta & 0.04610951 & 144 & ⋯ & SRR10066242 & SRR10089861 & 0.05539830 & 137 & 2473 & SRR10066242\\_1.shovillSpades & SRR10089861\\_1.shovillSpades & 0.05711168 & 157 & 2749\\\\\n",
       "\t3 & SRR10066242SRR10089862 & SRR10066242\\_1.shovillSpades.etoki.fasta & SRR10089862\\_1.shovillSpades.etoki.fasta & 0.05 & 165 & 3179 & SRR10066242\\_1.shovillSpades.fasta & SRR10089862\\_1.shovillSpades.fasta & 0.04612428 & 144 & ⋯ & SRR10066242 & SRR10089862 & 0.05537591 & 137 & 2474 & SRR10066242\\_1.shovillSpades & SRR10089862\\_1.shovillSpades & 0.05707016 & 157 & 2751\\\\\n",
       "\t4 & SRR10066242SRR10096821 & SRR10066242\\_1.shovillSpades.etoki.fasta & SRR10096821\\_1.shovillSpades.etoki.fasta & 0.05 & 165 & 3181 & SRR10066242\\_1.shovillSpades.fasta & SRR10096821\\_1.shovillSpades.fasta & 0.04609475 & 144 & ⋯ & SRR10066242 & SRR10096821 & 0.05523964 & 136 & 2462 & SRR10066242\\_1.shovillSpades & SRR10096821\\_1.shovillSpades & 0.05668605 & 156 & 2752\\\\\n",
       "\t5 & SRR10066242SRR10096822 & SRR10066242\\_1.shovillSpades.etoki.fasta & SRR10096822\\_1.shovillSpades.etoki.fasta & 0.05 & 166 & 3181 & SRR10066242\\_1.shovillSpades.fasta & SRR10096822\\_1.shovillSpades.fasta & 0.04641485 & 145 & ⋯ & SRR10066242 & SRR10096822 & 0.05533118 & 137 & 2476 & SRR10066242\\_1.shovillSpades & SRR10096822\\_1.shovillSpades & 0.05674791 & 156 & 2749\\\\\n",
       "\t6 & SRR10066242SRR10096824 & SRR10066242\\_1.shovillSpades.etoki.fasta & SRR10096824\\_1.shovillSpades.etoki.fasta & 0.05 & 166 & 3181 & SRR10066242\\_1.shovillSpades.fasta & SRR10096824\\_1.shovillSpades.fasta & 0.04641485 & 145 & ⋯ & SRR10066242 & SRR10096824 & 0.05542071 & 137 & 2472 & SRR10066242\\_1.shovillSpades & SRR10096824\\_1.shovillSpades & 0.05745455 & 158 & 2750\\\\\n",
       "\\end{tabular}\n"
      ],
      "text/markdown": [
       "\n",
       "A data.frame: 6 × 21\n",
       "\n",
       "| <!--/--> | key &lt;chr&gt; | sample1.etoki &lt;chr&gt; | sample2.etoki &lt;chr&gt; | identity.etoki &lt;dbl&gt; | numSame.etoki &lt;int&gt; | numCompared.etoki &lt;int&gt; | sample1.chewbbaca &lt;chr&gt; | sample2.chewbbaca &lt;chr&gt; | identity.chewbbaca &lt;dbl&gt; | numSame.chewbbaca &lt;int&gt; | ⋯ ⋯ | SRR1 &lt;chr&gt; | SRR2 &lt;chr&gt; | identity.bn &lt;dbl&gt; | numSame.bn &lt;int&gt; | numCompared.bn &lt;int&gt; | sample1.colorid &lt;chr&gt; | sample2.colorid &lt;chr&gt; | identity.colorid &lt;dbl&gt; | numSame.colorid &lt;int&gt; | numCompared.colorid &lt;int&gt; |\n",
       "|---|---|---|---|---|---|---|---|---|---|---|---|---|---|---|---|---|---|---|---|---|---|\n",
       "| 1 | SRR10066242SRR10067829 | SRR10066242_1.shovillSpades.etoki.fasta | SRR10067829_1.shovillSpades.etoki.fasta | 0.05 | 165 | 3181 | SRR10066242_1.shovillSpades.fasta | SRR10067829_1.shovillSpades.fasta | 0.04609475 | 144 | ⋯ | SRR10066242 | SRR10067829 | 0.05517241 | 136 | 2465 | SRR10066242_1.shovillSpades | SRR10067829_1.shovillSpades | 0.05741279 | 158 | 2752 |\n",
       "| 2 | SRR10066242SRR10089861 | SRR10066242_1.shovillSpades.etoki.fasta | SRR10089861_1.shovillSpades.etoki.fasta | 0.05 | 165 | 3180 | SRR10066242_1.shovillSpades.fasta | SRR10089861_1.shovillSpades.fasta | 0.04610951 | 144 | ⋯ | SRR10066242 | SRR10089861 | 0.05539830 | 137 | 2473 | SRR10066242_1.shovillSpades | SRR10089861_1.shovillSpades | 0.05711168 | 157 | 2749 |\n",
       "| 3 | SRR10066242SRR10089862 | SRR10066242_1.shovillSpades.etoki.fasta | SRR10089862_1.shovillSpades.etoki.fasta | 0.05 | 165 | 3179 | SRR10066242_1.shovillSpades.fasta | SRR10089862_1.shovillSpades.fasta | 0.04612428 | 144 | ⋯ | SRR10066242 | SRR10089862 | 0.05537591 | 137 | 2474 | SRR10066242_1.shovillSpades | SRR10089862_1.shovillSpades | 0.05707016 | 157 | 2751 |\n",
       "| 4 | SRR10066242SRR10096821 | SRR10066242_1.shovillSpades.etoki.fasta | SRR10096821_1.shovillSpades.etoki.fasta | 0.05 | 165 | 3181 | SRR10066242_1.shovillSpades.fasta | SRR10096821_1.shovillSpades.fasta | 0.04609475 | 144 | ⋯ | SRR10066242 | SRR10096821 | 0.05523964 | 136 | 2462 | SRR10066242_1.shovillSpades | SRR10096821_1.shovillSpades | 0.05668605 | 156 | 2752 |\n",
       "| 5 | SRR10066242SRR10096822 | SRR10066242_1.shovillSpades.etoki.fasta | SRR10096822_1.shovillSpades.etoki.fasta | 0.05 | 166 | 3181 | SRR10066242_1.shovillSpades.fasta | SRR10096822_1.shovillSpades.fasta | 0.04641485 | 145 | ⋯ | SRR10066242 | SRR10096822 | 0.05533118 | 137 | 2476 | SRR10066242_1.shovillSpades | SRR10096822_1.shovillSpades | 0.05674791 | 156 | 2749 |\n",
       "| 6 | SRR10066242SRR10096824 | SRR10066242_1.shovillSpades.etoki.fasta | SRR10096824_1.shovillSpades.etoki.fasta | 0.05 | 166 | 3181 | SRR10066242_1.shovillSpades.fasta | SRR10096824_1.shovillSpades.fasta | 0.04641485 | 145 | ⋯ | SRR10066242 | SRR10096824 | 0.05542071 | 137 | 2472 | SRR10066242_1.shovillSpades | SRR10096824_1.shovillSpades | 0.05745455 | 158 | 2750 |\n",
       "\n"
      ],
      "text/plain": [
       "  key                    sample1.etoki                          \n",
       "1 SRR10066242SRR10067829 SRR10066242_1.shovillSpades.etoki.fasta\n",
       "2 SRR10066242SRR10089861 SRR10066242_1.shovillSpades.etoki.fasta\n",
       "3 SRR10066242SRR10089862 SRR10066242_1.shovillSpades.etoki.fasta\n",
       "4 SRR10066242SRR10096821 SRR10066242_1.shovillSpades.etoki.fasta\n",
       "5 SRR10066242SRR10096822 SRR10066242_1.shovillSpades.etoki.fasta\n",
       "6 SRR10066242SRR10096824 SRR10066242_1.shovillSpades.etoki.fasta\n",
       "  sample2.etoki                           identity.etoki numSame.etoki\n",
       "1 SRR10067829_1.shovillSpades.etoki.fasta 0.05           165          \n",
       "2 SRR10089861_1.shovillSpades.etoki.fasta 0.05           165          \n",
       "3 SRR10089862_1.shovillSpades.etoki.fasta 0.05           165          \n",
       "4 SRR10096821_1.shovillSpades.etoki.fasta 0.05           165          \n",
       "5 SRR10096822_1.shovillSpades.etoki.fasta 0.05           166          \n",
       "6 SRR10096824_1.shovillSpades.etoki.fasta 0.05           166          \n",
       "  numCompared.etoki sample1.chewbbaca                \n",
       "1 3181              SRR10066242_1.shovillSpades.fasta\n",
       "2 3180              SRR10066242_1.shovillSpades.fasta\n",
       "3 3179              SRR10066242_1.shovillSpades.fasta\n",
       "4 3181              SRR10066242_1.shovillSpades.fasta\n",
       "5 3181              SRR10066242_1.shovillSpades.fasta\n",
       "6 3181              SRR10066242_1.shovillSpades.fasta\n",
       "  sample2.chewbbaca                 identity.chewbbaca numSame.chewbbaca ⋯\n",
       "1 SRR10067829_1.shovillSpades.fasta 0.04609475         144               ⋯\n",
       "2 SRR10089861_1.shovillSpades.fasta 0.04610951         144               ⋯\n",
       "3 SRR10089862_1.shovillSpades.fasta 0.04612428         144               ⋯\n",
       "4 SRR10096821_1.shovillSpades.fasta 0.04609475         144               ⋯\n",
       "5 SRR10096822_1.shovillSpades.fasta 0.04641485         145               ⋯\n",
       "6 SRR10096824_1.shovillSpades.fasta 0.04641485         145               ⋯\n",
       "  SRR1        SRR2        identity.bn numSame.bn numCompared.bn\n",
       "1 SRR10066242 SRR10067829 0.05517241  136        2465          \n",
       "2 SRR10066242 SRR10089861 0.05539830  137        2473          \n",
       "3 SRR10066242 SRR10089862 0.05537591  137        2474          \n",
       "4 SRR10066242 SRR10096821 0.05523964  136        2462          \n",
       "5 SRR10066242 SRR10096822 0.05533118  137        2476          \n",
       "6 SRR10066242 SRR10096824 0.05542071  137        2472          \n",
       "  sample1.colorid             sample2.colorid             identity.colorid\n",
       "1 SRR10066242_1.shovillSpades SRR10067829_1.shovillSpades 0.05741279      \n",
       "2 SRR10066242_1.shovillSpades SRR10089861_1.shovillSpades 0.05711168      \n",
       "3 SRR10066242_1.shovillSpades SRR10089862_1.shovillSpades 0.05707016      \n",
       "4 SRR10066242_1.shovillSpades SRR10096821_1.shovillSpades 0.05668605      \n",
       "5 SRR10066242_1.shovillSpades SRR10096822_1.shovillSpades 0.05674791      \n",
       "6 SRR10066242_1.shovillSpades SRR10096824_1.shovillSpades 0.05745455      \n",
       "  numSame.colorid numCompared.colorid\n",
       "1 158             2752               \n",
       "2 157             2749               \n",
       "3 157             2751               \n",
       "4 156             2752               \n",
       "5 156             2749               \n",
       "6 158             2750               "
      ]
     },
     "metadata": {},
     "output_type": "display_data"
    }
   ],
   "source": [
    "merged <- merge(merge(merge(etoki, chewbbaca, by.x=\"key\", by.y=\"key\"), bn, by.x=\"key\", by.y=\"key\"), colorid, by.x=\"key\", by.y=\"key\")\n",
    "#merged <- merge(colorid, bn, by.x=\"key\", by.y=\"key\")\n",
    "head(merged)"
   ]
  },
  {
   "cell_type": "code",
   "execution_count": 54,
   "id": "84256cf6-90e3-4b05-a390-871c8c724167",
   "metadata": {},
   "outputs": [],
   "source": [
    "minLoci <- 0.85 * 2513\n",
    "# filtered <- subset(merged, SRR1 != \"SRR7348299\" & SRR1 != \"SRR7706210\" & SRR2 != \"SRR7348299\" & SRR2 != \"SRR7706210\" & SRR1 != \"SRR6782573\" & SRR2!= \"SRR6782573\" & numCompared.etoki > minLoci & numCompared.bn > minLoci & numCompared.chewbbaca > minLoci)\n",
    "filtered <- subset(merged, numCompared.etoki > minLoci & numCompared.bn > minLoci & numCompared.chewbbaca > minLoci & SRR1!=\"SRR3228456\" & SRR2!=\"SRR3228456\" & SRR1 != \"SRR9734223\" & SRR2 != \"SRR9734223\" & SRR1 != \"SRR9734225\" & SRR2 != \"SRR9734225\" & SRR1 != \"SRR9734232\" & SRR2 != \"SRR9734232\")"
   ]
  },
  {
   "cell_type": "code",
   "execution_count": 55,
   "id": "3e4d01df-44d4-43b1-a928-3d526367672c",
   "metadata": {},
   "outputs": [],
   "source": [
    "# what are the mixups?\n",
    "# This is an interactive step where I filter by etoki > 0.8 and BN < 0.2\n",
    "# and remove SRRs one at a time if they reduce the resulting table significantly.\n",
    "# These results are then used to subset for the variable 'filtered' in the previous step.\n",
    "#subset(filtered, identity.etoki < 0.2 & identity.bn > 0.8 & SRR1!=\"SRR3228456\" & SRR2!=\"SRR3228456\", select=c(SRR1, SRR2, identity.etoki, identity.bn))"
   ]
  },
  {
   "cell_type": "code",
   "execution_count": 56,
   "id": "0e762402-48eb-4b01-a7aa-82d237d93164",
   "metadata": {},
   "outputs": [
    {
     "data": {
      "image/png": "[encoded data removed]",
      "text/plain": [
       "plot without title"
      ]
     },
     "metadata": {
      "image/png": {
       "height": 420,
       "width": 420
      }
     },
     "output_type": "display_data"
    }
   ],
   "source": [
    "plot(filtered$identity.bn, filtered$identity.etoki, xlab=\"BN identity\", ylab=\"Etoki identity\", col=\"black\")"
   ]
  },
  {
   "cell_type": "code",
   "execution_count": 57,
   "id": "5211ab86-8582-4254-a860-8ccd4cbce731",
   "metadata": {},
   "outputs": [
    {
     "name": "stderr",
     "output_type": "stream",
     "text": [
      "`geom_smooth()` using formula 'y ~ x'\n",
      "\n",
      "`geom_smooth()` using formula 'y ~ x'\n",
      "\n",
      "`geom_smooth()` using formula 'y ~ x'\n",
      "\n"
     ]
    },
    {
     "data": {
      "image/png": "[encoded data removed]",
      "text/plain": [
       "plot without title"
      ]
     },
     "metadata": {
      "image/png": {
       "height": 420,
       "width": 420
      }
     },
     "output_type": "display_data"
    }
   ],
   "source": [
    "library(\"ggplot2\")\n",
    "lm_etoki  <- lm(filtered$identity.etoki ~ filtered$identity.bn)\n",
    "rs_etoki  <- summary(lm_etoki)$r.squared\n",
    "cc_etoki  <- lm_etoki$coefficients\n",
    "eqn_etoki <- paste(\"Y = \", round(cc_etoki[-1],2), \"x +\", round(cc_etoki[1],2), \", R^2=\",round(rs_etoki,2), sep=\"\")\n",
    "\n",
    "lm_chewbbaca  <- lm(filtered$identity.chewbbaca ~ filtered$identity.bn)\n",
    "rs_chewbbaca  <- summary(lm_chewbbaca)$r.squared\n",
    "cc_chewbbaca  <- lm_chewbbaca$coefficients\n",
    "eqn_chewbbaca <- paste(\"Y = \", round(cc_chewbbaca[-1],2), \"x +\", round(cc_chewbbaca[1],2),\", R^2=\",round(rs_chewbbaca,2), sep=\"\")\n",
    "\n",
    "lm_colorid  <- lm(filtered$identity.colorid ~ filtered$identity.bn)\n",
    "rs_colorid  <- summary(lm_colorid)$r.squared\n",
    "cc_colorid  <- lm_colorid$coefficients\n",
    "eqn_colorid <- paste(\"Y = \", round(cc_colorid[-1],2), \"x +\", round(cc_colorid[1],2),\", R^2=\",round(rs_colorid,2), sep=\"\")\n",
    "\n",
    "ggplot(filtered, aes(x=identity.bn)) +\n",
    "  theme_classic() + \n",
    "  ggtitle(\n",
    "    paste(\"'other' caller vs BN caller, > \",floor(minLoci),\" loci compared, S. enterica\", sep=\"\")\n",
    "  ) +\n",
    "  geom_point(aes(y=identity.chewbbaca, color=\"chewbbaca\")) +\n",
    "  geom_smooth(data=filtered, aes(x=identity.bn, y=identity.chewbbaca, color=paste(\"chewbbaca trendline\",eqn_chewbbaca)), method=\"lm\", se=FALSE, linetype=\"dotted\") +\n",
    "  geom_point(aes(y=identity.colorid, color=\"colorid\")) +\n",
    "  geom_smooth(data=filtered, aes(x=identity.bn, y=identity.colorid, color=paste(\"colorid trendline\",eqn_colorid)), method=\"lm\", se=FALSE, linetype=\"dotted\") +\n",
    "  geom_point(aes(y=identity.etoki, color=\"etoki\")) +\n",
    "  geom_smooth(data=filtered, aes(x=identity.bn, y=identity.chewbbaca, color=paste(\"etoki trendline\",eqn_etoki)), method=\"lm\", se=FALSE, linetype=\"dotted\") +\n",
    "  labs(y = \"Other Identity\", color = \"Legend\") \n"
   ]
  }
 ],
 "metadata": {
  "kernelspec": {
   "display_name": "R",
   "language": "R",
   "name": "ir"
  },
  "language_info": {
   "codemirror_mode": "r",
   "file_extension": ".r",
   "mimetype": "text/x-r-source",
   "name": "R",
   "pygments_lexer": "r",
   "version": "4.1.1"
  }
 },
 "nbformat": 4,
 "nbformat_minor": 5
}
